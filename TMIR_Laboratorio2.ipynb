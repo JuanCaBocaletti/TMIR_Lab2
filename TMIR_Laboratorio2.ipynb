{
 "cells": [
  {
   "cell_type": "markdown",
   "id": "79e7505a-7723-4c7d-aa88-a3e237fd3207",
   "metadata": {},
   "source": [
    "# Text Mining & Image Recognition\n",
    "## Hoja de Trabajo # 2"
   ]
  },
  {
   "cell_type": "code",
   "execution_count": null,
   "id": "b5bb9214-f4b0-4836-bd1f-d2c05609243c",
   "metadata": {},
   "outputs": [],
   "source": [
    "# pip install opencv-python"
   ]
  },
  {
   "cell_type": "code",
   "execution_count": 11,
   "id": "769aea6c-32eb-4ac1-9df6-b2966bf586f5",
   "metadata": {},
   "outputs": [],
   "source": [
    "import cv2\n",
    "import numpy as np\n",
    "import matplotlib.pyplot as plt\n",
    "\n",
    "import skimage.color\n",
    "import skimage.io"
   ]
  },
  {
   "cell_type": "code",
   "execution_count": null,
   "id": "9cca008e-104b-4c74-b241-8e311f3c89d3",
   "metadata": {},
   "outputs": [],
   "source": []
  }
 ],
 "metadata": {
  "kernelspec": {
   "display_name": "Python 3 (ipykernel)",
   "language": "python",
   "name": "python3"
  },
  "language_info": {
   "codemirror_mode": {
    "name": "ipython",
    "version": 3
   },
   "file_extension": ".py",
   "mimetype": "text/x-python",
   "name": "python",
   "nbconvert_exporter": "python",
   "pygments_lexer": "ipython3",
   "version": "3.11.5"
  }
 },
 "nbformat": 4,
 "nbformat_minor": 5
}
